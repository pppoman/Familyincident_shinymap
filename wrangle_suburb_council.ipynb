{
 "cells": [
  {
   "cell_type": "code",
   "execution_count": null,
   "metadata": {},
   "outputs": [],
   "source": [
    "# importing pandas package\n",
    "import pandas as pd\n",
    " \n",
    "# create suburb data frame from xlsx file\n",
    "df_suburb = pd.read_excel(\"LocalityFinder.xlsx\")# importing pandas package\n",
    "import pandas as pd\n",
    " \n",
    "# create suburb data frame from xlsx file\n",
    "df_suburb = pd.read_excel(\"LocalityFinder.xlsx\")\n",
    "\n",
    "df_suburb.drop_duplicates(subset =[\"Suburb\",\"Postcode\"], inplace = True)\n",
    "\n",
    "df_suburb['Council'] = df_suburb['Council'].str.replace('Council', '')\n",
    "df_suburb['Council'] = df_suburb['Council'].str.replace('Shire','')\n",
    "df_suburb['Council'] = df_suburb['Council'].str.replace('City','')\n",
    "df_suburb['Council'] = df_suburb['Council'].str.replace('Rural','')\n",
    "df_suburb['Council'] = df_suburb['Council'].str.replace('Borough','')\n",
    "df_suburb['Council'] = df_suburb['Council'].str.replace('Land','Vic')\n",
    "\n",
    "df_suburb.to_excel('df_suburb.xlsx', index=False)"
   ]
  }
 ],
 "metadata": {
  "kernelspec": {
   "display_name": "Python 3",
   "language": "python",
   "name": "python3"
  },
  "language_info": {
   "codemirror_mode": {
    "name": "ipython",
    "version": 3
   },
   "file_extension": ".py",
   "mimetype": "text/x-python",
   "name": "python",
   "nbconvert_exporter": "python",
   "pygments_lexer": "ipython3",
   "version": "3.7.4"
  }
 },
 "nbformat": 4,
 "nbformat_minor": 2
}
